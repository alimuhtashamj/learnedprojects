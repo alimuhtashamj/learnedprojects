{
 "cells": [
  {
   "cell_type": "code",
   "execution_count": 3,
   "metadata": {},
   "outputs": [
    {
     "name": "stdout",
     "output_type": "stream",
     "text": [
      "['male']\n"
     ]
    }
   ],
   "source": [
    "from sklearn import tree\n",
    "\n",
    "# Height in cms, chest measurement in inches, waist measurement in inches\n",
    "X = [[180, 42, 32], [188, 48, 34], [188, 45, 33], [190, 49, 35], [171, 40, 29]]\n",
    "Y = ['male', 'male', 'male', 'female', 'male']  # Y should have 5 entries corresponding to X\n",
    "\n",
    "clf = tree.DecisionTreeClassifier()  # Instantiate the classifier\n",
    "clf.fit(X, Y)  # Fit the classifier with the data\n",
    "prediction = clf.predict([[190, 45, 33]])  # Predict for a new sample\n",
    "print(prediction)\n"
   ]
  }
 ],
 "metadata": {
  "kernelspec": {
   "display_name": "Python 3",
   "language": "python",
   "name": "python3"
  },
  "language_info": {
   "codemirror_mode": {
    "name": "ipython",
    "version": 3
   },
   "file_extension": ".py",
   "mimetype": "text/x-python",
   "name": "python",
   "nbconvert_exporter": "python",
   "pygments_lexer": "ipython3",
   "version": "3.12.3"
  }
 },
 "nbformat": 4,
 "nbformat_minor": 2
}
